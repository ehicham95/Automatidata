{
 "cells": [
  {
   "cell_type": "markdown",
   "metadata": {},
   "source": [
    "This code is used to import data from an API endpoint"
   ]
  },
  {
   "cell_type": "code",
   "execution_count": null,
   "metadata": {},
   "outputs": [],
   "source": [
    "import requests\n",
    "import pandas as pd\n",
    "import numpy as np\n",
    "from sodapy import Socrata\n",
    "from io import StringIO\n",
    "\n",
    "# Unauthenticated client only works with public data sets. Note 'None'\n",
    "# in place of application token, and no username or password:\n",
    "client = Socrata(\"data.cityofnewyork.us\", None)\n",
    "\n",
    "# Example authenticated client (needed for non-public datasets):\n",
    "# client = Socrata(data.cityofnewyork.us,\n",
    "#                  MyAppToken,\n",
    "#                  username=\"user@example.com\",\n",
    "#                  password=\"AFakePassword\")\n",
    "\n",
    "# First 2000 results, returned as JSON from API / converted to Python list of\n",
    "# dictionaries by sodapy.\n",
    "# results = client.get(\"biws-g3hs\", limit=25000)\n",
    "results = []\n",
    "offset = 0\n",
    "limit = 50000  # Socrata's max limit per request\n",
    "\n",
    "while True:\n",
    "    partial_result = client.get(\"biws-g3hs\", limit=limit, offset=offset)\n",
    "    if not partial_result:\n",
    "        break\n",
    "    results.extend(partial_result)\n",
    "    offset += limit\n",
    "# Convert JSON data to a CSV format string\n",
    "csv_data = pd.DataFrame.from_records(results).to_csv(index=False)\n",
    "\n",
    "# Load CSV format string into a DataFrame\n",
    "df = pd.read_csv(StringIO(csv_data))\n",
    "\n",
    "# Now you can manipulate df like any other DataFrame\n",
    "print('Data import is done !')\n"
   ]
  }
 ],
 "metadata": {
  "kernelspec": {
   "display_name": "Python 3",
   "language": "python",
   "name": "python3"
  },
  "language_info": {
   "codemirror_mode": {
    "name": "ipython",
    "version": 3
   },
   "file_extension": ".py",
   "mimetype": "text/x-python",
   "name": "python",
   "nbconvert_exporter": "python",
   "pygments_lexer": "ipython3",
   "version": "3.12.4"
  }
 },
 "nbformat": 4,
 "nbformat_minor": 2
}
